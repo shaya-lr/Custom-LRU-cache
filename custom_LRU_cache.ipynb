{
  "nbformat": 4,
  "nbformat_minor": 0,
  "metadata": {
    "colab": {
      "provenance": [],
      "authorship_tag": "ABX9TyMTEkAiMvI4Ic6HjCQmAYIp",
      "include_colab_link": true
    },
    "kernelspec": {
      "name": "python3",
      "display_name": "Python 3"
    },
    "language_info": {
      "name": "python"
    }
  },
  "cells": [
    {
      "cell_type": "markdown",
      "metadata": {
        "id": "view-in-github",
        "colab_type": "text"
      },
      "source": [
        "<a href=\"https://colab.research.google.com/github/shaya-lr/Custom-LRU-cache/blob/main/custom_LRU_cache.ipynb\" target=\"_parent\"><img src=\"https://colab.research.google.com/assets/colab-badge.svg\" alt=\"Open In Colab\"/></a>"
      ]
    },
    {
      "cell_type": "code",
      "execution_count": 1,
      "metadata": {
        "colab": {
          "base_uri": "https://localhost:8080/"
        },
        "id": "dmk68S4GYs5Q",
        "outputId": "15fab14b-345b-46b4-8b27-4a923c55fca1"
      },
      "outputs": [
        {
          "output_type": "stream",
          "name": "stdout",
          "text": [
            "1\n",
            "-1\n",
            "-1\n",
            "3\n",
            "4\n"
          ]
        }
      ],
      "source": [
        "class Node:\n",
        "    def __init__(self, key, value):\n",
        "        self.key = key\n",
        "        self.value = value\n",
        "        self.prev = None\n",
        "        self.next = None\n",
        "\n",
        "class LRUCache:\n",
        "    def __init__(self, capacity: int):\n",
        "        self.capacity = capacity\n",
        "        self.cache = {}\n",
        "        self.head = Node(0, 0)  # Dummy head\n",
        "        self.tail = Node(0, 0)  # Dummy tail\n",
        "        self.head.next = self.tail\n",
        "        self.tail.prev = self.head\n",
        "\n",
        "    def _remove(self, node: Node):\n",
        "        prev = node.prev\n",
        "        nxt = node.next\n",
        "        prev.next = nxt\n",
        "        nxt.prev = prev\n",
        "\n",
        "    def _add(self, node: Node):\n",
        "        prev = self.head\n",
        "        nxt = self.head.next\n",
        "        prev.next = node\n",
        "        node.prev = prev\n",
        "        node.next = nxt\n",
        "        nxt.prev = node\n",
        "\n",
        "    def get(self, key: int) -> int:\n",
        "        if key in self.cache:\n",
        "            node = self.cache[key]\n",
        "            self._remove(node)\n",
        "            self._add(node)\n",
        "            return node.value\n",
        "        return -1\n",
        "\n",
        "    def put(self, key: int, value: int) -> None:\n",
        "        if key in self.cache:\n",
        "            self._remove(self.cache[key])\n",
        "        node = Node(key, value)\n",
        "        self._add(node)\n",
        "        self.cache[key] = node\n",
        "\n",
        "        if len(self.cache) > self.capacity:\n",
        "            # Remove the LRU item\n",
        "            lru = self.tail.prev\n",
        "            self._remove(lru)\n",
        "            del self.cache[lru.key]\n",
        "\n",
        "# Example usage\n",
        "cache = LRUCache(2)  # Capacity of 2\n",
        "cache.put(1, 1)\n",
        "cache.put(2, 2)\n",
        "print(cache.get(1))  # returns 1\n",
        "cache.put(3, 3)     # evicts key 2\n",
        "print(cache.get(2))  # returns -1 (not found)\n",
        "cache.put(4, 4)     # evicts key 1\n",
        "print(cache.get(1))  # returns -1 (not found)\n",
        "print(cache.get(3))  # returns 3\n",
        "print(cache.get(4))  # returns 4\n"
      ]
    }
  ]
}